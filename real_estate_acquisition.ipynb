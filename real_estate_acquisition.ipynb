{
 "cells": [
  {
   "cell_type": "markdown",
   "source": [
    "# Analysis"
   ],
   "metadata": {
    "collapsed": false
   },
   "id": "e9a959bae61e4d0b"
  },
  {
   "cell_type": "markdown",
   "source": [
    "## Imports, load the data and inspect it"
   ],
   "metadata": {
    "collapsed": false
   },
   "id": "2d9e52c0b272c347"
  },
  {
   "cell_type": "code",
   "execution_count": 69,
   "outputs": [
    {
     "data": {
      "text/plain": "[('2e5d8815-4e59-4302-99c0-6fc9593a2eef',\n  'GATE_IN',\n  datetime.datetime(2023, 1, 31, 8, 18, 36, tzinfo=datetime.timezone.utc)),\n ('a8c60645-aef4-4b4e-aefb-65e242536c2f',\n  'GATE_IN',\n  datetime.datetime(2023, 1, 31, 8, 43, 41, tzinfo=datetime.timezone.utc)),\n ('0b99d382-ea52-4a1d-8e9e-218933c0d7b8',\n  'GATE_IN',\n  datetime.datetime(2023, 1, 31, 8, 43, 47, tzinfo=datetime.timezone.utc))]"
     },
     "execution_count": 69,
     "metadata": {},
     "output_type": "execute_result"
    }
   ],
   "source": [
    "# Imports\n",
    "import os\n",
    "import csv\n",
    "from datetime import datetime, timedelta\n",
    "from collections import defaultdict, Counter\n",
    "from typing import List, Tuple, Dict, Union\n",
    "from statistics import variance\n",
    "import unittest\n",
    "\n",
    "def load_all_data(file_path: str) -> List[Tuple[str, str, datetime]]:\n",
    "    \"\"\"Load all event data from a CSV file.\"\"\"\n",
    "    all_data = []\n",
    "    with open(file_path, 'r') as file:\n",
    "        csv_reader = csv.reader(file)\n",
    "        next(csv_reader)  # Skip header\n",
    "        for line in csv_reader:\n",
    "            user_id, event_type, event_time = line\n",
    "            event_time = datetime.fromisoformat(event_time.replace(\"Z\", \"+00:00\"))\n",
    "            all_data.append((user_id, event_type.upper(), event_time))\n",
    "    return all_data\n",
    "\n",
    "data = load_all_data('datapao_homework_2023.csv')\n",
    "data[:3]"
   ],
   "metadata": {
    "collapsed": false,
    "ExecuteTime": {
     "end_time": "2023-10-07T11:43:04.678196800Z",
     "start_time": "2023-10-07T11:43:04.553122700Z"
    }
   },
   "id": "d60a6f9f08e12181"
  },
  {
   "cell_type": "markdown",
   "source": [
    "## 1. Calculate the amount of time and the number of days each person has spent in the office in February. Write results to a CSV, in the format (user_id, time, days, average_per_day, rank)"
   ],
   "metadata": {
    "collapsed": false
   },
   "id": "f3eb46733438dc6"
  },
  {
   "cell_type": "code",
   "execution_count": 70,
   "outputs": [
    {
     "data": {
      "text/plain": "'./output\\\\first.csv'"
     },
     "execution_count": 70,
     "metadata": {},
     "output_type": "execute_result"
    }
   ],
   "source": [
    "def filter_and_sort_data(data_source: Union[str, List[Tuple[str, str, datetime]]]) -> List[Tuple[str, str, datetime]]:\n",
    "    \"\"\"Filter and sort event data for the month of February.\"\"\"\n",
    "    if isinstance(data_source, str):\n",
    "        all_data = load_all_data(data_source)\n",
    "        feb_data = [entry for entry in all_data if entry[2].month == 2]\n",
    "    else:\n",
    "        feb_data = [entry for entry in data_source if entry[2].month == 2]\n",
    "    feb_data.sort(key=lambda x: (x[0], x[2]))\n",
    "    return feb_data\n",
    "\n",
    "def calculate_user_metrics(feb_data: List[Tuple[str, str, datetime]]) -> Tuple[Dict[str, timedelta], Dict[str, set], Dict[str, List[Tuple[datetime, datetime]]]]:\n",
    "    \"\"\"Calculate metrics like time spent, unique days, and sessions for each user.\"\"\"\n",
    "    user_time = defaultdict(timedelta)\n",
    "    user_days = defaultdict(set)\n",
    "    user_sessions = defaultdict(list)\n",
    "\n",
    "    for i in range(len(feb_data) - 1):\n",
    "        user_id, event_type, event_time = feb_data[i]\n",
    "        next_user_id, next_event_type, next_event_time = feb_data[i + 1]\n",
    "\n",
    "        if user_id == next_user_id and event_type == \"GATE_IN\" and next_event_type == \"GATE_OUT\":\n",
    "            time_diff = next_event_time - event_time\n",
    "            user_time[user_id] += time_diff\n",
    "            user_days[user_id].add(event_time.date())\n",
    "\n",
    "            if user_sessions[user_id]:\n",
    "                last_session_end = user_sessions[user_id][-1][1]\n",
    "                if (event_time - last_session_end).seconds // 3600 >= 2:\n",
    "                    user_sessions[user_id].append((event_time, next_event_time))\n",
    "                else:\n",
    "                    user_sessions[user_id][-1] = (user_sessions[user_id][-1][0], next_event_time)\n",
    "            else:\n",
    "                user_sessions[user_id].append((event_time, next_event_time))\n",
    "\n",
    "    return user_time, user_days, user_sessions\n",
    "\n",
    "def calculate_avg_time_and_rank(user_time: Dict[str, timedelta], user_days: Dict[str, set]) -> Tuple[Dict[str, float], Dict[str, int]]:\n",
    "    \"\"\"Calculate average time and ordinal rank for each user.\"\"\"\n",
    "    user_avg_time = {user: (user_time[user].seconds // 3600) / len(user_days[user]) for user in user_time}\n",
    "    sorted_users = sorted(user_avg_time.items(), key=lambda x: x[1], reverse=True)\n",
    "    user_rank = {user: rank + 1 for rank, (user, _) in enumerate(sorted_users)}\n",
    "    return user_avg_time, user_rank\n",
    "\n",
    "def write_to_csv(output_data: List[List[Union[str, int, float]]], header: List[str], file_path: str) -> None:\n",
    "    \"\"\"Write calculated metrics to a CSV file.\"\"\"\n",
    "    with open(file_path, 'w', newline='') as file:\n",
    "        csv_writer = csv.writer(file)\n",
    "        csv_writer.writerow(header)\n",
    "        csv_writer.writerows(output_data)\n",
    "\n",
    "def task_one_main(file_path: str, output_file_path: str) -> None:\n",
    "    \"\"\"Main function to execute Task 1: Calculate and write user metrics to a CSV.\"\"\"\n",
    "    feb_data = filter_and_sort_data(file_path)\n",
    "    user_time, user_days, user_sessions = calculate_user_metrics(feb_data)\n",
    "    user_avg_time, user_rank = calculate_avg_time_and_rank(user_time, user_days)\n",
    "\n",
    "    output_data = [[user, user_time[user].seconds // 3600, len(user_days[user]), user_avg_time[user], user_rank[user]] for user in user_time]\n",
    "    write_to_csv(output_data, ['user_id', 'time', 'days', 'average_per_day', 'rank'], output_file_path)\n",
    "\n",
    "# Define the output directory and file path\n",
    "output_directory = './output'\n",
    "if not os.path.exists(output_directory):\n",
    "    os.makedirs(output_directory)\n",
    "\n",
    "output_file_path_1 = os.path.join(output_directory, 'first.csv')\n",
    "\n",
    "# Call the main function for Task 1\n",
    "task_one_main('datapao_homework_2023.csv', output_file_path_1)\n",
    "\n",
    "output_file_path_1"
   ],
   "metadata": {
    "collapsed": false,
    "ExecuteTime": {
     "end_time": "2023-10-07T11:43:04.737868300Z",
     "start_time": "2023-10-07T11:43:04.564822Z"
    }
   },
   "id": "681e5b8eb914e710"
  },
  {
   "cell_type": "code",
   "execution_count": 71,
   "outputs": [
    {
     "name": "stderr",
     "output_type": "stream",
     "text": [
      "...\n",
      "----------------------------------------------------------------------\n",
      "Ran 3 tests in 0.001s\n",
      "\n",
      "OK\n"
     ]
    },
    {
     "data": {
      "text/plain": "<unittest.runner.TextTestResult run=3 errors=0 failures=0>"
     },
     "execution_count": 71,
     "metadata": {},
     "output_type": "execute_result"
    }
   ],
   "source": [
    "# Unit Tests for Task 1\n",
    "\n",
    "class TestTaskOne(unittest.TestCase):\n",
    "\n",
    "    # Sample data for testing\n",
    "    sample_data = [\n",
    "        ('user_1', 'GATE_IN', datetime(2023, 2, 1, 8, 0, 0)),\n",
    "        ('user_1', 'GATE_OUT', datetime(2023, 2, 1, 12, 0, 0)),\n",
    "        ('user_1', 'GATE_IN', datetime(2023, 2, 1, 13, 0, 0)),\n",
    "        ('user_1', 'GATE_OUT', datetime(2023, 2, 1, 18, 0, 0)),\n",
    "        ('user_2', 'GATE_IN', datetime(2023, 2, 1, 9, 0, 0)),\n",
    "        ('user_2', 'GATE_OUT', datetime(2023, 2, 1, 17, 0, 0))\n",
    "    ]\n",
    "\n",
    "    def test_filter_and_sort_data(self):\n",
    "        self.assertEqual(filter_and_sort_data(self.sample_data), self.sample_data)\n",
    "\n",
    "    def test_calculate_user_metrics(self):\n",
    "        user_time, user_days, user_sessions = calculate_user_metrics(self.sample_data)\n",
    "        self.assertEqual(user_time['user_1'].seconds // 3600, 9)\n",
    "        self.assertEqual(user_time['user_2'].seconds // 3600, 8)\n",
    "        self.assertEqual(len(user_days['user_1']), 1)\n",
    "        self.assertEqual(len(user_days['user_2']), 1)\n",
    "\n",
    "    def test_calculate_avg_time_and_rank(self):\n",
    "        user_time = {'user_1': timedelta(hours=9), 'user_2': timedelta(hours=8)}\n",
    "        user_days = {'user_1': {datetime(2023, 2, 1).date()}, 'user_2': {datetime(2023, 2, 1).date()}}\n",
    "        user_avg_time, user_rank = calculate_avg_time_and_rank(user_time, user_days)\n",
    "        self.assertEqual(user_avg_time['user_1'], 9.0)\n",
    "        self.assertEqual(user_avg_time['user_2'], 8.0)\n",
    "        self.assertEqual(user_rank['user_1'], 1)\n",
    "        self.assertEqual(user_rank['user_2'], 2)\n",
    "\n",
    "# Run the unit tests\n",
    "unittest.TextTestRunner().run(unittest.TestLoader().loadTestsFromTestCase(TestTaskOne))"
   ],
   "metadata": {
    "collapsed": false,
    "ExecuteTime": {
     "end_time": "2023-10-07T11:43:04.737868300Z",
     "start_time": "2023-10-07T11:43:04.601164100Z"
    }
   },
   "id": "43ecb3ff833e0bfa"
  },
  {
   "cell_type": "markdown",
   "source": [
    "## 2. Find out who had the longest work session in February. Write the result to a CSV in the format (user_id, session_length)"
   ],
   "metadata": {
    "collapsed": false
   },
   "id": "f8debefeab5303e0"
  },
  {
   "cell_type": "code",
   "execution_count": 72,
   "outputs": [
    {
     "data": {
      "text/plain": "'./output\\\\second.csv'"
     },
     "execution_count": 72,
     "metadata": {},
     "output_type": "execute_result"
    }
   ],
   "source": [
    "def calculate_longest_session(user_sessions: Dict[str, List[Tuple[datetime, datetime]]]) -> Dict[str, timedelta]:\n",
    "    \"\"\"Calculate the longest work session for each user.\"\"\"\n",
    "    return {user: max((session[1] - session[0] for session in sessions), default=timedelta(0))\n",
    "            for user, sessions in user_sessions.items()}\n",
    "\n",
    "def task_two_main(user_sessions: Dict[str, List[Tuple[datetime, datetime]]], output_file_path: str) -> None:\n",
    "    \"\"\"Main function to execute Task 2: Calculate and write longest work sessions to a CSV.\"\"\"\n",
    "    user_longest_session = calculate_longest_session(user_sessions)\n",
    "    sorted_users_by_session = sorted(user_longest_session.items(), key=lambda x: x[1], reverse=True)\n",
    "    output_second = [[user, longest_session.seconds // 3600] for user, longest_session in sorted_users_by_session]\n",
    "    write_to_csv(output_second, ['user_id', 'session_length'], output_file_path)\n",
    "\n",
    "# Define the output file path for Task 2\n",
    "output_file_path_2 = os.path.join(output_directory, 'second.csv')\n",
    "\n",
    "# Fetch the feb_data from the original data source or pre-filtered data\n",
    "feb_data = filter_and_sort_data('datapao_homework_2023.csv')  # Replace with your actual file path\n",
    "\n",
    "# Get user_sessions from calculate_user_metrics function\n",
    "_, _, user_sessions = calculate_user_metrics(feb_data)\n",
    "\n",
    "# Call the main function for Task 2\n",
    "task_two_main(user_sessions, output_file_path_2)\n",
    "\n",
    "output_file_path_2"
   ],
   "metadata": {
    "collapsed": false,
    "ExecuteTime": {
     "end_time": "2023-10-07T11:43:04.753547700Z",
     "start_time": "2023-10-07T11:43:04.609372900Z"
    }
   },
   "id": "be61ade9eb841470"
  },
  {
   "cell_type": "code",
   "execution_count": 73,
   "outputs": [
    {
     "name": "stderr",
     "output_type": "stream",
     "text": [
      ".\n",
      "----------------------------------------------------------------------\n",
      "Ran 1 test in 0.000s\n",
      "\n",
      "OK\n"
     ]
    },
    {
     "data": {
      "text/plain": "<unittest.runner.TextTestResult run=1 errors=0 failures=0>"
     },
     "execution_count": 73,
     "metadata": {},
     "output_type": "execute_result"
    }
   ],
   "source": [
    "# Unit Tests for Task 2\n",
    "\n",
    "class TestTaskTwo(unittest.TestCase):\n",
    "\n",
    "    # Sample session data for testing\n",
    "    sample_sessions = {\n",
    "        'user_1': [\n",
    "            (datetime(2023, 2, 1, 8, 0, 0), datetime(2023, 2, 1, 18, 0, 0)),  # Merged session\n",
    "        ],\n",
    "        'user_2': [\n",
    "            (datetime(2023, 2, 1, 9, 0, 0), datetime(2023, 2, 1, 17, 0, 0))\n",
    "        ]\n",
    "    }\n",
    "\n",
    "    def test_calculate_longest_session(self):\n",
    "        longest_sessions = calculate_longest_session(self.sample_sessions)\n",
    "        self.assertEqual(longest_sessions['user_1'].seconds // 3600, 10)\n",
    "        self.assertEqual(longest_sessions['user_2'].seconds // 3600, 8)\n",
    "\n",
    "# Run the unit tests for Task 2\n",
    "unittest.TextTestRunner().run(unittest.TestLoader().loadTestsFromTestCase(TestTaskTwo))"
   ],
   "metadata": {
    "collapsed": false,
    "ExecuteTime": {
     "end_time": "2023-10-07T11:43:04.753547700Z",
     "start_time": "2023-10-07T11:43:04.622238100Z"
    }
   },
   "id": "b38e265f482a7563"
  },
  {
   "cell_type": "markdown",
   "source": [
    "## 3.1 Identify core working hours -- when are the most employees present?\n",
    "\n",
    "This should help us best book face-to-face meetings and collaborative work."
   ],
   "metadata": {
    "collapsed": false
   },
   "id": "a274551430d4b27b"
  },
  {
   "cell_type": "code",
   "execution_count": 74,
   "outputs": [
    {
     "data": {
      "text/plain": "{0: -1,\n 1: -2,\n 2: -3,\n 3: -3,\n 4: -3,\n 5: -3,\n 6: -3,\n 7: -3,\n 8: 57,\n 9: 131,\n 10: 153,\n 11: 189,\n 12: 176,\n 13: 180,\n 14: 175,\n 15: 179,\n 16: 174,\n 17: 173,\n 18: 163,\n 19: 137,\n 20: 56,\n 21: -3,\n 22: -2,\n 23: 0}"
     },
     "execution_count": 74,
     "metadata": {},
     "output_type": "execute_result"
    }
   ],
   "source": [
    "def calculate_hourly_presence(feb_data: List[Tuple[str, str, datetime]]) -> Dict[int, int]:\n",
    "    \"\"\"Calculate the hourly presence of employees.\"\"\"\n",
    "    hourly_presence = Counter()\n",
    "    for user_id, event_type, event_time in feb_data:\n",
    "        if event_type == \"GATE_IN\":\n",
    "            hourly_presence[event_time.hour] += 1\n",
    "        elif event_type == \"GATE_OUT\":\n",
    "            hourly_presence[event_time.hour] -= 1\n",
    "    return hourly_presence\n",
    "\n",
    "def calculate_cumulative_hourly_presence(hourly_presence: Dict[int, int]) -> Dict[int, int]:\n",
    "    \"\"\"Calculate the cumulative hourly presence of employees.\"\"\"\n",
    "    cumulative_presence = 0\n",
    "    hourly_cumulative_presence = {}\n",
    "    for hour in range(24):\n",
    "        cumulative_presence += hourly_presence.get(hour, 0)\n",
    "        hourly_cumulative_presence[hour] = cumulative_presence\n",
    "    return hourly_cumulative_presence\n",
    "\n",
    "# Run the functions for calculating core working hours\n",
    "hourly_presence = calculate_hourly_presence(feb_data)\n",
    "hourly_cumulative_presence = calculate_cumulative_hourly_presence(hourly_presence)\n",
    "hourly_cumulative_presence"
   ],
   "metadata": {
    "collapsed": false,
    "ExecuteTime": {
     "end_time": "2023-10-07T11:43:04.753547700Z",
     "start_time": "2023-10-07T11:43:04.626436300Z"
    }
   },
   "id": "152248a84d3528e"
  },
  {
   "cell_type": "code",
   "execution_count": 75,
   "outputs": [
    {
     "name": "stderr",
     "output_type": "stream",
     "text": [
      "..\n",
      "----------------------------------------------------------------------\n",
      "Ran 2 tests in 0.001s\n",
      "\n",
      "OK\n"
     ]
    },
    {
     "data": {
      "text/plain": "<unittest.runner.TextTestResult run=2 errors=0 failures=0>"
     },
     "execution_count": 75,
     "metadata": {},
     "output_type": "execute_result"
    }
   ],
   "source": [
    "# Unit Tests for Core Working Hours Calculation\n",
    "\n",
    "class TestCoreWorkingHours(unittest.TestCase):\n",
    "\n",
    "    # Sample data for testing\n",
    "    sample_data = [\n",
    "        ('user_1', 'GATE_IN', datetime(2023, 2, 1, 8, 0, 0)),\n",
    "        ('user_1', 'GATE_OUT', datetime(2023, 2, 1, 12, 0, 0)),\n",
    "        ('user_1', 'GATE_IN', datetime(2023, 2, 1, 13, 0, 0)),\n",
    "        ('user_1', 'GATE_OUT', datetime(2023, 2, 1, 18, 0, 0)),\n",
    "        ('user_2', 'GATE_IN', datetime(2023, 2, 1, 9, 0, 0)),\n",
    "        ('user_2', 'GATE_OUT', datetime(2023, 2, 1, 17, 0, 0))\n",
    "    ]\n",
    "\n",
    "    def test_calculate_hourly_presence(self):\n",
    "        hourly_presence = calculate_hourly_presence(self.sample_data)\n",
    "        self.assertEqual(hourly_presence[8], 1)\n",
    "        self.assertEqual(hourly_presence[9], 1)\n",
    "        self.assertEqual(hourly_presence[12], -1)\n",
    "        self.assertEqual(hourly_presence[13], 1)\n",
    "        self.assertEqual(hourly_presence[17], -1)\n",
    "        self.assertEqual(hourly_presence[18], -1)\n",
    "\n",
    "    def test_calculate_cumulative_hourly_presence(self):\n",
    "        hourly_presence = calculate_hourly_presence(self.sample_data)\n",
    "        hourly_cumulative_presence = calculate_cumulative_hourly_presence(hourly_presence)\n",
    "        self.assertEqual(hourly_cumulative_presence[8], 1)\n",
    "        self.assertEqual(hourly_cumulative_presence[9], 2)\n",
    "        self.assertEqual(hourly_cumulative_presence[12], 1)\n",
    "        self.assertEqual(hourly_cumulative_presence[13], 2)\n",
    "        self.assertEqual(hourly_cumulative_presence[17], 1)\n",
    "        self.assertEqual(hourly_cumulative_presence[18], 0)\n",
    "\n",
    "# Run the unit tests for Core Working Hours Calculation\n",
    "unittest.TextTestRunner().run(unittest.TestLoader().loadTestsFromTestCase(TestCoreWorkingHours))"
   ],
   "metadata": {
    "collapsed": false,
    "ExecuteTime": {
     "end_time": "2023-10-07T11:43:04.753547700Z",
     "start_time": "2023-10-07T11:43:04.634266Z"
    }
   },
   "id": "e49f9a2a93cb2532"
  },
  {
   "cell_type": "markdown",
   "source": [
    "At 11 AM we have the highest employee presence, and it might be best to book larger meetings around that time.\n",
    "\n",
    "The number of people present remains somewhat constant for multiple hours after that, so these hours might be best for any collaborative work sessions."
   ],
   "metadata": {
    "collapsed": false
   },
   "id": "e085b22387db376"
  },
  {
   "cell_type": "markdown",
   "source": [
    "## 3.2 Flexibility index\n",
    "\n",
    "Calculate the variance in the start and end times of each employee's work sessions. A higher variance indicates the employee has a very flexible schedule, and a lower variance indicates the employee has a strict pattern and routine."
   ],
   "metadata": {
    "collapsed": false
   },
   "id": "4f4a48c812251293"
  },
  {
   "cell_type": "markdown",
   "source": [
    "The most flexible workers might be our first people to call when urgent things pop up outside more typical working hours.\n",
    "The least flexible users are predictable, and their schedules might be the easiest to plan around and assign tasks based on."
   ],
   "metadata": {
    "collapsed": false
   },
   "id": "2d7f3f92d831c349"
  },
  {
   "cell_type": "code",
   "execution_count": 76,
   "outputs": [
    {
     "data": {
      "text/plain": "([('1fcdd2f5-13ed-4ee8-b4ec-706654e68472', 57.82213438735178),\n  ('bfa0f1f9-300e-41ad-bcff-0c3bd79595f1', 40.01307189542484),\n  ('5dafb3b2-22aa-4039-a2f0-3cf711f84177', 33.97011494252874)],\n [('98ea63ee-bba1-4ea5-8ada-1d0a2dd1f6fd', 23.04),\n  ('oab91046-1831-436d-a41d-da6ba1b2d385', 22.104761904761904),\n  ('33c08c48-f50a-4c72-a975-f8572d65a8db', 22.026666666666664)])"
     },
     "execution_count": 76,
     "metadata": {},
     "output_type": "execute_result"
    }
   ],
   "source": [
    "def populate_start_end_times(user_sessions: Dict[str, List[Tuple[datetime, datetime]]]) -> Tuple[Dict[str, List[int]], Dict[str, List[int]]]:\n",
    "    \"\"\"Populate start and end times for each user's work sessions.\"\"\"\n",
    "    user_start_times = defaultdict(list)\n",
    "    user_end_times = defaultdict(list)\n",
    "    for user, sessions in user_sessions.items():\n",
    "        for session_start, session_end in sessions:\n",
    "            user_start_times[user].append(session_start.hour)\n",
    "            user_end_times[user].append(session_end.hour)\n",
    "    return user_start_times, user_end_times\n",
    "\n",
    "def calculate_flexibility_index(user_start_times: Dict[str, List[int]], user_end_times: Dict[str, List[int]]) -> Dict[str, float]:\n",
    "    \"\"\"Calculate the flexibility index for each user.\"\"\"\n",
    "    user_flexibility_index = {}\n",
    "    for user in user_start_times:\n",
    "        start_var = variance(user_start_times[user]) if len(user_start_times[user]) > 1 else 0\n",
    "        end_var = variance(user_end_times[user]) if len(user_end_times[user]) > 1 else 0\n",
    "        user_flexibility_index[user] = start_var + end_var\n",
    "    return user_flexibility_index\n",
    "\n",
    "# Run the functions for calculating flexibility index\n",
    "user_start_times, user_end_times = populate_start_end_times(user_sessions)\n",
    "user_flexibility_index = calculate_flexibility_index(user_start_times, user_end_times)\n",
    "\n",
    "# Sort the users by Flexibility Index\n",
    "sorted_users_by_flexibility = sorted(user_flexibility_index.items(), key=lambda x: x[1], reverse=True)\n",
    "\n",
    "# Display the top 3 most flexible and least flexible users\n",
    "top_3_most_flexible_users = sorted_users_by_flexibility[:3]\n",
    "top_3_least_flexible_users = sorted_users_by_flexibility[-3:]\n",
    "\n",
    "top_3_most_flexible_users, top_3_least_flexible_users"
   ],
   "metadata": {
    "collapsed": false,
    "ExecuteTime": {
     "end_time": "2023-10-07T11:43:04.753547700Z",
     "start_time": "2023-10-07T11:43:04.644681100Z"
    }
   },
   "id": "8f78d706142d9d33"
  },
  {
   "cell_type": "code",
   "execution_count": 77,
   "outputs": [
    {
     "name": "stderr",
     "output_type": "stream",
     "text": [
      "..\n",
      "----------------------------------------------------------------------\n",
      "Ran 2 tests in 0.001s\n",
      "\n",
      "OK\n"
     ]
    },
    {
     "data": {
      "text/plain": "<unittest.runner.TextTestResult run=2 errors=0 failures=0>"
     },
     "execution_count": 77,
     "metadata": {},
     "output_type": "execute_result"
    }
   ],
   "source": [
    "# Unit Tests for Flexibility Index Calculation\n",
    "\n",
    "class TestFlexibilityIndex(unittest.TestCase):\n",
    "\n",
    "    # Sample session data for testing\n",
    "    sample_sessions = {\n",
    "        'user_1': [\n",
    "            (datetime(2023, 2, 1, 8, 0, 0), datetime(2023, 2, 1, 18, 0, 0)),  # Merged session\n",
    "            (datetime(2023, 2, 2, 9, 0, 0), datetime(2023, 2, 2, 17, 0, 0))\n",
    "        ],\n",
    "        'user_2': [\n",
    "            (datetime(2023, 2, 1, 9, 0, 0), datetime(2023, 2, 1, 17, 0, 0)),\n",
    "            (datetime(2023, 2, 2, 10, 0, 0), datetime(2023, 2, 2, 16, 0, 0))\n",
    "        ]\n",
    "    }\n",
    "\n",
    "    def test_populate_start_end_times(self):\n",
    "        start_times, end_times = populate_start_end_times(self.sample_sessions)\n",
    "        self.assertEqual(start_times['user_1'], [8, 9])\n",
    "        self.assertEqual(end_times['user_1'], [18, 17])\n",
    "        self.assertEqual(start_times['user_2'], [9, 10])\n",
    "        self.assertEqual(end_times['user_2'], [17, 16])\n",
    "\n",
    "    def test_calculate_flexibility_index(self):\n",
    "        start_times, end_times = populate_start_end_times(self.sample_sessions)\n",
    "        flexibility_index = calculate_flexibility_index(start_times, end_times)\n",
    "        self.assertEqual(flexibility_index['user_1'], 0.5 + 0.5)\n",
    "        self.assertEqual(flexibility_index['user_2'], 0.5 + 0.5)\n",
    "\n",
    "# Run the unit tests for Flexibility Index Calculation\n",
    "unittest.TextTestRunner().run(unittest.TestLoader().loadTestsFromTestCase(TestFlexibilityIndex))"
   ],
   "metadata": {
    "collapsed": false,
    "ExecuteTime": {
     "end_time": "2023-10-07T11:43:04.784687400Z",
     "start_time": "2023-10-07T11:43:04.652423300Z"
    }
   },
   "id": "f52dc93d1558b6c5"
  }
 ],
 "metadata": {
  "kernelspec": {
   "display_name": "Python 3",
   "language": "python",
   "name": "python3"
  },
  "language_info": {
   "codemirror_mode": {
    "name": "ipython",
    "version": 2
   },
   "file_extension": ".py",
   "mimetype": "text/x-python",
   "name": "python",
   "nbconvert_exporter": "python",
   "pygments_lexer": "ipython2",
   "version": "2.7.6"
  }
 },
 "nbformat": 4,
 "nbformat_minor": 5
}
